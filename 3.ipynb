{
 "cells": [
  {
   "cell_type": "code",
   "execution_count": 6,
   "metadata": {},
   "outputs": [
    {
     "data": {
      "text/plain": [
       "''"
      ]
     },
     "execution_count": 6,
     "metadata": {},
     "output_type": "execute_result"
    }
   ],
   "source": [
    "from selenium import webdriver\n",
    "from selenium.webdriver.common.by import By\n",
    "from selenium.webdriver.chrome.options import Options\n",
    "from selenium.webdriver.chrome.service import Service\n",
    "from webdriver_manager.chrome import ChromeDriverManager\n",
    "import time\n",
    "import pyautogui\n",
    "\n",
    "options = Options()\n",
    "options.add_experimental_option(\"detach\", True)\n",
    "service = Service(ChromeDriverManager().install())\n",
    "driver = webdriver.Chrome(service=service, options=options)\n",
    "\n",
    "url = \"http://www.sdulife.com/99_Etc/DupLogin.asp?Referrer=stud.sdulife.com/Frameset/Main.asp\"\n",
    "\n",
    "driver.get(url)\n",
    "\n",
    "time.sleep(1)\n",
    "\n",
    "input(\"공인인증서, PC등록 완료되면 엔터키\")"
   ]
  },
  {
   "cell_type": "code",
   "execution_count": 12,
   "metadata": {},
   "outputs": [
    {
     "name": "stdout",
     "output_type": "stream",
     "text": [
      "[28, 28, 27]\n",
      "[27, 27, 26]\n",
      "[29, 26, 39]\n",
      "[27, 27, 26]\n",
      "[25, 29, 24]\n",
      "[32, 27, 26]\n",
      "[19, 27, 36]\n"
     ]
    }
   ],
   "source": [
    "import time\n",
    "from bs4 import BeautifulSoup\n",
    "import re\n",
    "from selenium import webdriver\n",
    "\n",
    "# numbers 숫자를 하나씩 실행합니다.\n",
    "numbers = ['51', '13', '52', '54', '55', '56', '57']\n",
    "result_list = []  # 결과를 저장할 리스트 생성\n",
    "\n",
    "# numbers에 있는 각 코드에 대해 실행\n",
    "for number in numbers:\n",
    "    url = f'http://stud.sdulife.com/02_Lecture/Lecture/Lecture_Chapter.asp?YearHaki=20232&RecSeq=6&SubjCode=C000{number}&Icon=List'\n",
    "    driver.get(url)  # 웹페이지 열기\n",
    "    time.sleep(3)  # 페이지 로딩 대기\n",
    "\n",
    "    # 강의 정보 파싱\n",
    "    html = BeautifulSoup(driver.page_source, 'html.parser')\n",
    "    txt = html.find_all(class_='text1')\n",
    "    txt_list = [i.text for i in txt]\n",
    "\n",
    "    # 숫자 추출하여 result 리스트에 저장\n",
    "    result = [int(re.search(r'(\\d+)\\s분', item).group(1)) for item in txt_list if re.search(r'(\\d+)\\s분', item)]\n",
    "    result_list.append(result)  # 현재 result 값을 result_list에 추가\n",
    "    time.sleep(3)  # 페이지 로딩 대기\n",
    "\n",
    "# 조회한 강의 정보를 출력\n",
    "for result in result_list:\n",
    "    print(result)\n"
   ]
  },
  {
   "cell_type": "code",
   "execution_count": 14,
   "metadata": {},
   "outputs": [],
   "source": [
    "from selenium.webdriver.common.by import By\n",
    "\n",
    "# numbers 숫자를 하나씩 실행합니다.\n",
    "numbers = ['51', '13', '52', '54', '55', '56', '57']\n",
    "\n",
    "# 각 과목 코드에 대해서\n",
    "for idx, number in enumerate(numbers):\n",
    "    try:\n",
    "        url = f'http://stud.sdulife.com/02_Lecture/Lecture/Lecture_Chapter.asp?YearHaki=20232&RecSeq=6&SubjCode=C000{number}&Icon=List'\n",
    "        driver.get(url)\n",
    "        time.sleep(3)\n",
    "        \n",
    "        # 해당 과목의 result를 가져옵니다.\n",
    "        result = result_list[idx]\n",
    "        \n",
    "        # 해당 요소를 찾아 클릭합니다.\n",
    "        for i, a in enumerate(result):\n",
    "            try:\n",
    "                element = driver.find_element(By.XPATH, f'//*[@id=\"Menu_js_img\"]/div[3]/table[2]/tbody[{i+1}]/tr/td[4]/div/a/span/img')\n",
    "                element.click()\n",
    "                time.sleep(a * 0.8)\n",
    "            except Exception as e:\n",
    "                print(f\"Inner loop error: {e}\")\n",
    "    except Exception as e:\n",
    "        print(f\"Outer loop error: {e}\")\n",
    "\n",
    "print(\"모든 과정이 완료되었습니다.\")\n"
   ]
  },
  {
   "cell_type": "code",
   "execution_count": 4,
   "metadata": {},
   "outputs": [
    {
     "ename": "NoSuchWindowException",
     "evalue": "Message: no such window: target window already closed\nfrom unknown error: web view not found\n  (Session info: chrome=114.0.5735.199)\nStacktrace:\nBacktrace:\n\tGetHandleVerifier [0x00DFA813+48355]\n\t(No symbol) [0x00D8C4B1]\n\t(No symbol) [0x00C95358]\n\t(No symbol) [0x00C7D293]\n\t(No symbol) [0x00CDE37B]\n\t(No symbol) [0x00CEC473]\n\t(No symbol) [0x00CDA536]\n\t(No symbol) [0x00CB82DC]\n\t(No symbol) [0x00CB93DD]\n\tGetHandleVerifier [0x0105AABD+2539405]\n\tGetHandleVerifier [0x0109A78F+2800735]\n\tGetHandleVerifier [0x0109456C+2775612]\n\tGetHandleVerifier [0x00E851E0+616112]\n\t(No symbol) [0x00D95F8C]\n\t(No symbol) [0x00D92328]\n\t(No symbol) [0x00D9240B]\n\t(No symbol) [0x00D84FF7]\n\tBaseThreadInitThunk [0x770E7D59+25]\n\tRtlInitializeExceptionChain [0x77EAB79B+107]\n\tRtlClearBits [0x77EAB71F+191]\n",
     "output_type": "error",
     "traceback": [
      "\u001b[1;31m---------------------------------------------------------------------------\u001b[0m",
      "\u001b[1;31mNoSuchWindowException\u001b[0m                     Traceback (most recent call last)",
      "\u001b[1;32mc:\\Ubion_8\\python\\230804\\3.ipynb 셀 2\u001b[0m line \u001b[0;36m6\n\u001b[0;32m      <a href='vscode-notebook-cell:/c%3A/Ubion_8/python/230804/3.ipynb#W1sZmlsZQ%3D%3D?line=3'>4</a>\u001b[0m \u001b[39mfor\u001b[39;00m number \u001b[39min\u001b[39;00m numbers:\n\u001b[0;32m      <a href='vscode-notebook-cell:/c%3A/Ubion_8/python/230804/3.ipynb#W1sZmlsZQ%3D%3D?line=4'>5</a>\u001b[0m     url \u001b[39m=\u001b[39m \u001b[39mf\u001b[39m\u001b[39m'\u001b[39m\u001b[39mhttp://stud.sdulife.com/02_Lecture/Lecture/Lecture_Chapter.asp?YearHaki=20232&RecSeq=6&SubjCode=C000\u001b[39m\u001b[39m{\u001b[39;00mnumber\u001b[39m}\u001b[39;00m\u001b[39m&Icon=List\u001b[39m\u001b[39m'\u001b[39m\n\u001b[1;32m----> <a href='vscode-notebook-cell:/c%3A/Ubion_8/python/230804/3.ipynb#W1sZmlsZQ%3D%3D?line=5'>6</a>\u001b[0m     driver\u001b[39m.\u001b[39;49mget(url)\n\u001b[0;32m      <a href='vscode-notebook-cell:/c%3A/Ubion_8/python/230804/3.ipynb#W1sZmlsZQ%3D%3D?line=6'>7</a>\u001b[0m     time\u001b[39m.\u001b[39msleep(\u001b[39m3\u001b[39m)\n\u001b[0;32m      <a href='vscode-notebook-cell:/c%3A/Ubion_8/python/230804/3.ipynb#W1sZmlsZQ%3D%3D?line=8'>9</a>\u001b[0m     \u001b[39m# 해당 요소를 찾아 클릭합니다.\u001b[39;00m\n",
      "File \u001b[1;32m~\\AppData\\Local\\Packages\\PythonSoftwareFoundation.Python.3.10_qbz5n2kfra8p0\\LocalCache\\local-packages\\Python310\\site-packages\\selenium\\webdriver\\remote\\webdriver.py:449\u001b[0m, in \u001b[0;36mWebDriver.get\u001b[1;34m(self, url)\u001b[0m\n\u001b[0;32m    447\u001b[0m \u001b[39mdef\u001b[39;00m \u001b[39mget\u001b[39m(\u001b[39mself\u001b[39m, url: \u001b[39mstr\u001b[39m) \u001b[39m-\u001b[39m\u001b[39m>\u001b[39m \u001b[39mNone\u001b[39;00m:\n\u001b[0;32m    448\u001b[0m \u001b[39m    \u001b[39m\u001b[39m\"\"\"Loads a web page in the current browser session.\"\"\"\u001b[39;00m\n\u001b[1;32m--> 449\u001b[0m     \u001b[39mself\u001b[39;49m\u001b[39m.\u001b[39;49mexecute(Command\u001b[39m.\u001b[39;49mGET, {\u001b[39m\"\u001b[39;49m\u001b[39murl\u001b[39;49m\u001b[39m\"\u001b[39;49m: url})\n",
      "File \u001b[1;32m~\\AppData\\Local\\Packages\\PythonSoftwareFoundation.Python.3.10_qbz5n2kfra8p0\\LocalCache\\local-packages\\Python310\\site-packages\\selenium\\webdriver\\remote\\webdriver.py:440\u001b[0m, in \u001b[0;36mWebDriver.execute\u001b[1;34m(self, driver_command, params)\u001b[0m\n\u001b[0;32m    438\u001b[0m response \u001b[39m=\u001b[39m \u001b[39mself\u001b[39m\u001b[39m.\u001b[39mcommand_executor\u001b[39m.\u001b[39mexecute(driver_command, params)\n\u001b[0;32m    439\u001b[0m \u001b[39mif\u001b[39;00m response:\n\u001b[1;32m--> 440\u001b[0m     \u001b[39mself\u001b[39;49m\u001b[39m.\u001b[39;49merror_handler\u001b[39m.\u001b[39;49mcheck_response(response)\n\u001b[0;32m    441\u001b[0m     response[\u001b[39m\"\u001b[39m\u001b[39mvalue\u001b[39m\u001b[39m\"\u001b[39m] \u001b[39m=\u001b[39m \u001b[39mself\u001b[39m\u001b[39m.\u001b[39m_unwrap_value(response\u001b[39m.\u001b[39mget(\u001b[39m\"\u001b[39m\u001b[39mvalue\u001b[39m\u001b[39m\"\u001b[39m, \u001b[39mNone\u001b[39;00m))\n\u001b[0;32m    442\u001b[0m     \u001b[39mreturn\u001b[39;00m response\n",
      "File \u001b[1;32m~\\AppData\\Local\\Packages\\PythonSoftwareFoundation.Python.3.10_qbz5n2kfra8p0\\LocalCache\\local-packages\\Python310\\site-packages\\selenium\\webdriver\\remote\\errorhandler.py:245\u001b[0m, in \u001b[0;36mErrorHandler.check_response\u001b[1;34m(self, response)\u001b[0m\n\u001b[0;32m    243\u001b[0m         alert_text \u001b[39m=\u001b[39m value[\u001b[39m\"\u001b[39m\u001b[39malert\u001b[39m\u001b[39m\"\u001b[39m]\u001b[39m.\u001b[39mget(\u001b[39m\"\u001b[39m\u001b[39mtext\u001b[39m\u001b[39m\"\u001b[39m)\n\u001b[0;32m    244\u001b[0m     \u001b[39mraise\u001b[39;00m exception_class(message, screen, stacktrace, alert_text)  \u001b[39m# type: ignore[call-arg]  # mypy is not smart enough here\u001b[39;00m\n\u001b[1;32m--> 245\u001b[0m \u001b[39mraise\u001b[39;00m exception_class(message, screen, stacktrace)\n",
      "\u001b[1;31mNoSuchWindowException\u001b[0m: Message: no such window: target window already closed\nfrom unknown error: web view not found\n  (Session info: chrome=114.0.5735.199)\nStacktrace:\nBacktrace:\n\tGetHandleVerifier [0x00DFA813+48355]\n\t(No symbol) [0x00D8C4B1]\n\t(No symbol) [0x00C95358]\n\t(No symbol) [0x00C7D293]\n\t(No symbol) [0x00CDE37B]\n\t(No symbol) [0x00CEC473]\n\t(No symbol) [0x00CDA536]\n\t(No symbol) [0x00CB82DC]\n\t(No symbol) [0x00CB93DD]\n\tGetHandleVerifier [0x0105AABD+2539405]\n\tGetHandleVerifier [0x0109A78F+2800735]\n\tGetHandleVerifier [0x0109456C+2775612]\n\tGetHandleVerifier [0x00E851E0+616112]\n\t(No symbol) [0x00D95F8C]\n\t(No symbol) [0x00D92328]\n\t(No symbol) [0x00D9240B]\n\t(No symbol) [0x00D84FF7]\n\tBaseThreadInitThunk [0x770E7D59+25]\n\tRtlInitializeExceptionChain [0x77EAB79B+107]\n\tRtlClearBits [0x77EAB71F+191]\n"
     ]
    }
   ],
   "source": [
    "# numbers 숫자를 하나씩 실행합니다.\n",
    "numbers = [ '55', '56', '57']\n",
    "#경영정보, 경제학, 국제경영, 생산관리, 인적관리, 재무관리, 회계원리, 51', '13', '52',\n",
    "for number in numbers:\n",
    "    url = f'http://stud.sdulife.com/02_Lecture/Lecture/Lecture_Chapter.asp?YearHaki=20232&RecSeq=6&SubjCode=C000{number}&Icon=List'\n",
    "    driver.get(url)\n",
    "    time.sleep(3)\n",
    "    \n",
    "    # 해당 요소를 찾아 클릭합니다.\n",
    "    for i in range(1, 4):\n",
    "        element = driver.find_element(By.XPATH, f'//*[@id=\"Menu_js_img\"]/div[3]/table[2]/tbody[{i}]/tr/td[4]/div/a/span/img')\n",
    "        element.click()\n",
    "        time.sleep(40*60)\n",
    "\n",
    "input(\"학습 종료, 모든 강의 check 필요\")"
   ]
  }
 ],
 "metadata": {
  "kernelspec": {
   "display_name": "Python 3",
   "language": "python",
   "name": "python3"
  },
  "language_info": {
   "codemirror_mode": {
    "name": "ipython",
    "version": 3
   },
   "file_extension": ".py",
   "mimetype": "text/x-python",
   "name": "python",
   "nbconvert_exporter": "python",
   "pygments_lexer": "ipython3",
   "version": "3.10.11"
  },
  "orig_nbformat": 4
 },
 "nbformat": 4,
 "nbformat_minor": 2
}
