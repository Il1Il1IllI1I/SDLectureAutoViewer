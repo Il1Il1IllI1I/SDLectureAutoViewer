{
 "cells": [
  {
   "cell_type": "code",
   "execution_count": 2,
   "metadata": {},
   "outputs": [
    {
     "data": {
      "text/plain": [
       "''"
      ]
     },
     "execution_count": 2,
     "metadata": {},
     "output_type": "execute_result"
    }
   ],
   "source": [
    "from selenium import webdriver\n",
    "from selenium.webdriver.common.by import By\n",
    "from selenium.webdriver.chrome.options import Options\n",
    "from selenium.webdriver.chrome.service import Service\n",
    "from webdriver_manager.chrome import ChromeDriverManager\n",
    "import time\n",
    "import pyautogui\n",
    "\n",
    "# 웹드라이버 초기 설정\n",
    "options = Options()\n",
    "options.add_experimental_option(\"detach\", True)\n",
    "driver = webdriver.Chrome(executable_path='C:\\\\Users\\\\USER\\\\Downloads\\\\chromedriver_win32\\\\chromedriver.exe', options=options)\n",
    "\n",
    "url = \"http://www.sdulife.com/99_Etc/DupLogin.asp?Referrer=stud.sdulife.com/Frameset/Main.asp\"\n",
    "\n",
    "driver.get(url)\n",
    "\n",
    "time.sleep(1)\n",
    "\n",
    "input(\"공인인증서, PC등록 완료되면 엔터키\")"
   ]
  },
  {
   "cell_type": "code",
   "execution_count": 3,
   "metadata": {},
   "outputs": [
    {
     "name": "stdout",
     "output_type": "stream",
     "text": [
      "[25, 29, 24]\n",
      "[32, 27, 26]\n",
      "[19, 27, 36]\n"
     ]
    }
   ],
   "source": [
    "import time\n",
    "from bs4 import BeautifulSoup\n",
    "import re\n",
    "from selenium import webdriver\n",
    "\n",
    "# numbers 숫자를 하나씩 실행합니다.\n",
    "# numbers = ['20', '39', '22', '03', '02', '01', '04', '31']\n",
    "#가족복지, 가족상담, 노인복지, 실천기술, 복지실천, 복지학, 인간행동, 청소년\n",
    "numbers = [ '55', '56', '57']\n",
    "# 성현태 코드 \n",
    "result_list = []  # 결과를 저장할 리스트 생성\n",
    "\n",
    "# numbers에 있는 각 코드에 대해 실행\n",
    "for number in numbers:\n",
    "    url = f'http://stud.sdulife.com/02_Lecture/Lecture/Lecture_Chapter.asp?YearHaki=20232&RecSeq=6&SubjCode=C000{number}&Icon=List'\n",
    "    driver.get(url)  # 웹페이지 열기\n",
    "    time.sleep(3)  # 페이지 로딩 대기\n",
    "\n",
    "    # 강의 정보 파싱\n",
    "    html = BeautifulSoup(driver.page_source, 'html.parser')\n",
    "    txt = html.find_all(class_='text1')\n",
    "    txt_list = [i.text for i in txt]\n",
    "\n",
    "    # 숫자 추출하여 result 리스트에 저장\n",
    "    result = [int(re.search(r'(\\d+)\\s분', item).group(1)) for item in txt_list if re.search(r'(\\d+)\\s분', item)]\n",
    "    result_list.append(result)  # 현재 result 값을 result_list에 추가\n",
    "    time.sleep(3)  # 페이지 로딩 대기\n",
    "\n",
    "# 조회한 강의 정보를 출력\n",
    "for result in result_list:\n",
    "    print(result)\n"
   ]
  },
  {
   "cell_type": "code",
   "execution_count": 4,
   "metadata": {},
   "outputs": [
    {
     "name": "stdout",
     "output_type": "stream",
     "text": [
      "모든 과정이 완료되었습니다.\n"
     ]
    }
   ],
   "source": [
    "from selenium.webdriver.common.by import By\n",
    "\n",
    "# 각 과목 코드에 대해서\n",
    "for idx, number in enumerate(numbers):\n",
    "    try:\n",
    "        url = f'http://stud.sdulife.com/02_Lecture/Lecture/Lecture_Chapter.asp?YearHaki=20232&RecSeq=6&SubjCode=C000{number}&Icon=List'\n",
    "        driver.get(url)\n",
    "        time.sleep(3)\n",
    "        \n",
    "        # 해당 과목의 result를 가져옵니다.\n",
    "        result = result_list[idx]\n",
    "        \n",
    "        # 해당 요소를 찾아 클릭합니다.\n",
    "        for i, a in enumerate(result):\n",
    "            try:\n",
    "                element = driver.find_element(By.XPATH, f'//*[@id=\"Menu_js_img\"]/div[3]/table[2]/tbody[{i+1}]/tr/td[4]/div/a/span/img')\n",
    "                element.click()\n",
    "                time.sleep((a+1) * 60)\n",
    "            except Exception as e:\n",
    "                print(f\"Inner loop error: {e}\")\n",
    "    except Exception as e:\n",
    "        print(f\"Outer loop error: {e}\")\n",
    "\n",
    "print(\"모든 과정이 완료되었습니다.\")\n"
   ]
  }
 ],
 "metadata": {
  "kernelspec": {
   "display_name": "Python 3",
   "language": "python",
   "name": "python3"
  },
  "language_info": {
   "codemirror_mode": {
    "name": "ipython",
    "version": 3
   },
   "file_extension": ".py",
   "mimetype": "text/x-python",
   "name": "python",
   "nbconvert_exporter": "python",
   "pygments_lexer": "ipython3",
   "version": "3.9.13"
  },
  "orig_nbformat": 4
 },
 "nbformat": 4,
 "nbformat_minor": 2
}
