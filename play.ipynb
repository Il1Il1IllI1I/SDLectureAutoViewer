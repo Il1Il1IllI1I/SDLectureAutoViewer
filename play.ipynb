{
 "cells": [
  {
   "cell_type": "code",
   "execution_count": null,
   "metadata": {},
   "outputs": [],
   "source": [
    "from selenium import webdriver\n",
    "from selenium.webdriver.common.by import By\n",
    "from selenium.webdriver.chrome.options import Options\n",
    "from bs4 import BeautifulSoup\n",
    "import time\n",
    "import re\n",
    "import pyautogui\n",
    "\n",
    "def setup_webdriver(exec_path, options):\n",
    "    return webdriver.Chrome(executable_path=exec_path, options=options)\n",
    "\n",
    "def fetch_lecture_durations(driver, subject_code):\n",
    "    driver.get(f'http://stud.sdulife.com/02_Lecture/Lecture/Lecture_Chapter.asp?YearHaki=20232&RecSeq=6&SubjCode=C000{subject_code}&Icon=List')\n",
    "    time.sleep(3)\n",
    "    html = BeautifulSoup(driver.page_source, 'html.parser')\n",
    "    durations = [int(re.search(r'(\\d+)\\s분', text.text).group(1)) for text in html.find_all(class_='text1') if re.search(r'(\\d+)\\s분', text.text)]\n",
    "    return durations\n",
    "\n",
    "def play_lectures(driver, subject_code, durations):\n",
    "    driver.get(f'http://stud.sdulife.com/02_Lecture/Lecture/Lecture_Chapter.asp?YearHaki=20232&RecSeq=6&SubjCode=C000{subject_code}&Icon=List')\n",
    "    time.sleep(3)\n",
    "    for idx, duration in enumerate(durations):\n",
    "        try:\n",
    "            play_button = driver.find_element(By.XPATH, f'//*[@id=\"Menu_js_img\"]/div[3]/table[2]/tbody[{idx+1}]/tr/td[4]/div/a/span/img')\n",
    "            play_button.click()\n",
    "            time.sleep((duration + 1) * 60)\n",
    "        except Exception as e:\n",
    "            print(f\"강의 재생 오류: {e}\")\n",
    "\n",
    "options = Options()\n",
    "options.add_experimental_option(\"detach\", True)\n",
    "driver = setup_webdriver('C:\\\\Users\\\\USER\\\\Downloads\\\\chromedriver_win32\\\\chromedriver.exe', options)"
   ]
  },
  {
   "cell_type": "code",
   "execution_count": null,
   "metadata": {},
   "outputs": [],
   "source": [
    "login_url = \"http://www.sdulife.com/99_Etc/DupLogin.asp?Referrer=stud.sdulife.com/Frameset/Main.asp\"\n",
    "driver.get(login_url)\n",
    "time.sleep(1)\n",
    "input(\"공인인증서, PC등록 완료되면 엔터키\")"
   ]
  },
  {
   "cell_type": "code",
   "execution_count": null,
   "metadata": {},
   "outputs": [],
   "source": [
    "lecture_codes = ['20', '39', '22', '03', '02', '01', '04', '31'] #Choi\n",
    "# lecture_codes = ['51', '13', '52', '54','55', '56', '57']  #Sung\n",
    "\n",
    "\n",
    "lecture_durations = {code: fetch_lecture_durations(driver, code) for code in lecture_codes}\n",
    "\n",
    "for code, durations in lecture_durations.items():\n",
    "    play_lectures(driver, code, durations)\n",
    "\n",
    "print(\"모든 과정이 완료되었습니다.\")"
   ]
  }
 ],
 "metadata": {
  "language_info": {
   "name": "python"
  },
  "orig_nbformat": 4
 },
 "nbformat": 4,
 "nbformat_minor": 2
}
